{
  "nbformat": 4,
  "nbformat_minor": 0,
  "metadata": {
    "colab": {
      "name": "Markdown Truth Table Generator.ipynb",
      "provenance": [],
      "collapsed_sections": [],
      "authorship_tag": "ABX9TyN7iwd2OMIQMXxMQEbXJjT/",
      "include_colab_link": true
    },
    "kernelspec": {
      "name": "python3",
      "display_name": "Python 3"
    },
    "language_info": {
      "name": "python"
    }
  },
  "cells": [
    {
      "cell_type": "markdown",
      "metadata": {
        "id": "view-in-github",
        "colab_type": "text"
      },
      "source": [
        "<a href=\"https://colab.research.google.com/github/mueller14003/DM-Tools/blob/main/Markdown_Truth_Table_Generator.ipynb\" target=\"_parent\"><img src=\"https://colab.research.google.com/assets/colab-badge.svg\" alt=\"Open In Colab\"/></a>"
      ]
    },
    {
      "cell_type": "code",
      "metadata": {
        "id": "3IeDUYe_K4BT",
        "cellView": "form"
      },
      "source": [
        "#@title <font color=red>RUN THIS CODE FIRST!</font>\n",
        "from IPython.display import Markdown\n",
        "from inspect import signature\n",
        "from functools import partial\n",
        "\n",
        "class Infix(object):\n",
        "    def __init__(self, func):\n",
        "        self.func = func\n",
        "    def __or__(self, other):\n",
        "        return self.func(other)\n",
        "    def __ror__(self, other):\n",
        "        return Infix(partial(self.func, other))\n",
        "    def __call__(self, v1, v2):\n",
        "        return self.func(v1, v2)\n",
        "\n",
        "#         ~   ¬     ^   ⊕    &    ∧     |    ∨\n",
        "t_dict = {38: 8743, 94: 8853, 124: 8744, 126: 172} # Dict for str.translate()\n",
        "prettify = lambda s: s.translate(t_dict).replace('<->','↔').replace('->','→')\n",
        "\n",
        "κ = Infix(lambda a,b: ~a | b) # Conditional\n",
        "β = Infix(lambda a,b: ~(a ^ b)) # Biconditional\n",
        "fix_inline = lambda s: s.replace('<->','|β|').replace('->','|κ|')\n",
        "\n",
        "flatten = lambda l: sum(map(flatten,l),[]) if isinstance(l,list) else [l] # Flattens lists\n",
        "get_arity = lambda f: len(signature(f).parameters) # Returns Arity of a Function\n",
        "get_bits = lambda n: [*map(lambda x:[*map(int,bin(x)[2:].zfill(n))],range(2**n))] # Get Bits\n",
        "gbfa = lambda f: get_bits(get_arity(f)) # Get Bits from Arity\n",
        "output = lambda f: [*map(f,*zip(*gbfa(f)))] # Output of Boolean Function\n",
        "make_tt = lambda f: [*map(flatten,[*map(list,zip(gbfa(f),output(f)))])] # Make Truth Table\n",
        "gv = lambda s: sorted([*{*filter(str.isalpha,s)}]) # Gets Variables from String\n",
        "gvf = lambda s: ','.join(gv(s)) # Get Vars (formatted)\n",
        "mttfs = lambda s: make_tt(eval(f\"lambda {gvf(s)}:[0,1][{fix_inline(s)}]\")) # Make Truth Table from String\n",
        "fline = lambda l: f\"|{'|'.join(map(str,l))}|\" # Format Line\n",
        "fheader = lambda s: f\"|{'|'.join(gv(s))}|{prettify(s)}|\\n|{'|'.join(['-']*len(gv(s)))}|:-:|\\n\" # Format Header\n",
        "make_truth_table = lambda s: Markdown(fheader(s)+'\\n'.join(map(fline,mttfs(s)))) # Make Formatted Truth Table from String"
      ],
      "execution_count": null,
      "outputs": []
    },
    {
      "cell_type": "markdown",
      "metadata": {
        "id": "dmGx3u8HORLR"
      },
      "source": [
        "# Use the `make_truth_table` function to make a truth table!\n",
        "The `make_truth_table` function takes in a string as an argument. The string must contain a valid boolean expression."
      ]
    },
    {
      "cell_type": "markdown",
      "metadata": {
        "id": "X6olsOeyPCef"
      },
      "source": [
        "##Symbol Guide:\n",
        "Please use the symbols from `Input Syntax` when entering a string into the `make_truth_table` function.\n",
        "\n",
        "| Name | Input Syntax | Logic Symbol |\n",
        "|------|--------------|--------------|\n",
        "| not  | ~            | $\\neg$       |\n",
        "| and  | &            | $\\land$      |\n",
        "| or   | $|$          | $\\lor$       |\n",
        "| xor  | ^            | $\\oplus$     |\n",
        "|conditional| ->      | $\\rightarrow$|\n",
        "|biconditional| <->   | $\\leftrightarrow$|\n",
        "\n",
        "Feel free to ask me any questions!"
      ]
    },
    {
      "cell_type": "code",
      "metadata": {
        "id": "Z_6uiygmIPm-",
        "colab": {
          "base_uri": "https://localhost:8080/",
          "height": 121
        },
        "outputId": "0186fd39-aea4-4c31-b131-15713e7ec6dc"
      },
      "source": [
        "make_truth_table(\"p -> q\")"
      ],
      "execution_count": null,
      "outputs": [
        {
          "output_type": "execute_result",
          "data": {
            "text/markdown": "|p|q|p → q|\n|-|-|:-:|\n|0|0|1|\n|0|1|1|\n|1|0|0|\n|1|1|1|",
            "text/plain": [
              "<IPython.core.display.Markdown object>"
            ]
          },
          "metadata": {},
          "execution_count": 23
        }
      ]
    }
  ]
}