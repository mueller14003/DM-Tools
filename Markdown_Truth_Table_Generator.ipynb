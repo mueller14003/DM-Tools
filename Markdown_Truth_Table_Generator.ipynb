{
  "nbformat": 4,
  "nbformat_minor": 0,
  "metadata": {
    "colab": {
      "name": "Markdown Truth Table Generator.ipynb",
      "provenance": [],
      "collapsed_sections": [],
      "authorship_tag": "ABX9TyOVtYUIantlVZ2lHnei0QQR",
      "include_colab_link": true
    },
    "kernelspec": {
      "name": "python3",
      "display_name": "Python 3"
    },
    "language_info": {
      "name": "python"
    }
  },
  "cells": [
    {
      "cell_type": "markdown",
      "metadata": {
        "id": "view-in-github",
        "colab_type": "text"
      },
      "source": [
        "<a href=\"https://colab.research.google.com/github/mueller14003/fun-stuff/blob/main/Markdown_Truth_Table_Generator.ipynb\" target=\"_parent\"><img src=\"https://colab.research.google.com/assets/colab-badge.svg\" alt=\"Open In Colab\"/></a>"
      ]
    },
    {
      "cell_type": "code",
      "metadata": {
        "colab": {
          "base_uri": "https://localhost:8080/",
          "height": 137
        },
        "id": "3IeDUYe_K4BT",
        "outputId": "73aaaa16-bc33-4391-da8f-a6c2e34a9903"
      },
      "source": [
        "from IPython.display import Markdown\n",
        "from inspect import signature\n",
        "\n",
        "#         ~   ¬     ^   ⊕    &    ∧     |    ∨\n",
        "t_dict = {38: 8743, 94: 8853, 124: 8744, 126: 172}\n",
        "flatten = lambda l: sum(map(flatten,l),[]) if isinstance(l,list) else [l] # Flattens lists\n",
        "get_arity = lambda f: len(signature(f).parameters) # Returns Arity of a Function\n",
        "get_bits = lambda n: [*map(lambda x:[*map(int,bin(x)[2:].zfill(n))],range(2**n))]\n",
        "gbfa = lambda f: get_bits(get_arity(f)) # Get Bits from Arity\n",
        "output = lambda f: [*map(f,*zip(*gbfa(f)))] # Output of Boolean Function\n",
        "make_tt = lambda f: [*map(flatten,[*map(list,zip(gbfa(f),output(f)))])] # Make Truth Table\n",
        "gv = lambda s: sorted([*{*filter(str.isalpha,s)}]) # Gets Variables from String\n",
        "gvf = lambda s: ','.join(gv(s)) # Get Vars Formatted\n",
        "mttfs = lambda s: make_tt(eval(f\"lambda {gvf(s)}:[0,1][{s}]\")) # Make Truth Table from String\n",
        "fline = lambda l: f\"|${'$|$'.join(map(str,l))}$|\"\n",
        "fheader = lambda s: f\"|${'$|$'.join(gv(s))}$|${s.translate(t_dict)}$|\\n|{'|'.join(['-']*len(gv(s)))}|:-:|\\n\"\n",
        "mfttfs = lambda s: Markdown(fheader(s)+'\\n'.join(map(fline,mttfs(s)))) # Make Formatted Truth Table from String\n",
        "\n",
        "mfttfs(\"~(p ^ q)\")"
      ],
      "execution_count": 29,
      "outputs": [
        {
          "output_type": "execute_result",
          "data": {
            "text/markdown": "|$p$|$q$|$¬(p ⊕ q)$|\n|-|-|:-:|\n|$0$|$0$|$1$|\n|$0$|$1$|$0$|\n|$1$|$0$|$0$|\n|$1$|$1$|$1$|",
            "text/plain": [
              "<IPython.core.display.Markdown object>"
            ]
          },
          "metadata": {
            "tags": []
          },
          "execution_count": 29
        }
      ]
    }
  ]
}